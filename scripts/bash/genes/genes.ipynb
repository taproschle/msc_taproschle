{
 "cells": [
  {
   "cell_type": "code",
   "execution_count": 1,
   "id": "aa9c5979",
   "metadata": {},
   "outputs": [],
   "source": [
    "mkdir -p deseq\n",
    "\n",
    "cp ../../R/no_dup/results/*_deseq/*res_2_0.01.tsv deseq/.\n",
    "cp ../../R/no_dup/data_info.tsv ."
   ]
  },
  {
   "cell_type": "code",
   "execution_count": 2,
   "id": "fc8ab3ae",
   "metadata": {},
   "outputs": [],
   "source": [
    "sed -i 's/\"//g' data_info.tsv"
   ]
  },
  {
   "cell_type": "code",
   "execution_count": 3,
   "id": "59991474",
   "metadata": {},
   "outputs": [],
   "source": [
    "dos2unix data_info.tsv\n",
    "dos2unix deseq/*"
   ]
  },
  {
   "cell_type": "code",
   "execution_count": 4,
   "id": "f4ca00d2",
   "metadata": {},
   "outputs": [],
   "source": [
    "ls deseq/* | while read file; do\n",
    "    name=$(basename -s '.tsv' $file)\n",
    "    exp=$(echo \"$name\" | sed 's/_deseq_res_2_0.01//g' | cut -d'_' -f1)\n",
    "    ref=$(echo \"$name\" | sed 's/_deseq_res_2_0.01//g' | cut -d'_' -f3)\n",
    "    \n",
    "    n=$(wc -l $file | awk '{print $1}')\n",
    "    exp_col=$(awk -v str=\"$exp\" -v n=\"$n\" 'BEGIN { for (i=1; i<n; i++) print str }')\n",
    "    ref_col=$(awk -v str=\"$ref\" -v n=\"$n\" 'BEGIN { for (i=1; i<n; i++) print str }')\n",
    "    \n",
    "    mo=$(cat $file | sed '1d' | cut -f1)\n",
    "    deg=$(cat $file | sed '1d' | cut -f2-)\n",
    "    \n",
    "    paste <(echo \"$mo\") <(echo \"$exp_col\") <(echo \"$ref_col\") <(echo \"$deg\")\n",
    "done > genes.tmp"
   ]
  },
  {
   "cell_type": "code",
   "execution_count": null,
   "id": "87b448c6",
   "metadata": {},
   "outputs": [],
   "source": [
    "cat genes.tmp | while read line; do\n",
    "    lt=$(echo \"$line\" | cut -f4)\n",
    "    lt_info=$(grep \"$lt\" data_info.tsv | cut -f3-)\n",
    "    echo \"$lt_info\"\n",
    "done | paste <(cat genes.tmp) - | sed '1i species\\texperiment\\treference\\tlocus_tag\\tlog2FC\\tp_adjusted\\tregulation\\tproduct\\tgene' > genes_pre.tmp"
   ]
  },
  {
   "cell_type": "code",
   "execution_count": null,
   "id": "71a32910",
   "metadata": {},
   "outputs": [],
   "source": [
    "grep -v \"rRNA\\|ribosomal protein\" genes_pre.tmp > genes.tsv\n",
    "rm *.tmp"
   ]
  }
 ],
 "metadata": {
  "kernelspec": {
   "display_name": "Bash",
   "language": "bash",
   "name": "bash"
  },
  "language_info": {
   "codemirror_mode": "shell",
   "file_extension": ".sh",
   "mimetype": "text/x-sh",
   "name": "bash"
  }
 },
 "nbformat": 4,
 "nbformat_minor": 5
}
